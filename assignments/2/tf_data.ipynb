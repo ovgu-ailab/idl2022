{
 "cells": [
  {
   "cell_type": "code",
   "execution_count": null,
   "metadata": {
    "id": "qR8ojx9skODa"
   },
   "outputs": [],
   "source": [
    "# note: we do not need to involve this MNISTDataset thingy anymore =)\n",
    "import tensorflow as tf\n",
    "from matplotlib import pyplot as plt\n",
    "import numpy as np"
   ]
  },
  {
   "cell_type": "code",
   "execution_count": null,
   "metadata": {
    "id": "bHiLBWwfkODe"
   },
   "outputs": [],
   "source": [
    "# we can create a \"dummy\" dataset with range just to see how it works\n",
    "\n",
    "data = tf.data.Dataset.range(10)\n",
    "# uncomment any of the below (also multiple ones if you want) and run this cell each time. \n",
    "# make sure you understand what each transformation does!\n",
    "\n",
    "#data = data.shuffle(10)  # 10 is the buffer size -- play with this!!\n",
    "#data = data.batch(2)  # 2 is batch size -- change it!\n",
    "#data = data.repeat(5)  # number of repetitions\n",
    "\n",
    "\n",
    "elems = 0\n",
    "for thing in data:\n",
    "    elems += 1\n",
    "    print(thing.numpy())\n",
    "print(\"\\nTotal number of elements: {}\".format(elems))"
   ]
  },
  {
   "cell_type": "code",
   "execution_count": null,
   "metadata": {
    "id": "cx_pSFLukODh"
   },
   "outputs": [],
   "source": [
    "# basic MNIST\n",
    "\n",
    "# same thing we had earlier -- this just loads the numpy arrays\n",
    "mnist = tf.keras.datasets.mnist\n",
    "(train_images, train_labels), (test_images, test_labels) = mnist.load_data()\n",
    "\n",
    "# this is now different\n",
    "train_data = tf.data.Dataset.from_tensor_slices((train_images, train_labels))\n",
    "\n",
    "# we can iterate through the data and check what it looks like\n",
    "for img, lbl in train_data:\n",
    "    print(lbl.numpy())\n",
    "    plt.imshow(img.numpy(), cmap=\"Greys_r\")\n",
    "    plt.show()\n",
    "    input()"
   ]
  },
  {
   "cell_type": "code",
   "execution_count": null,
   "metadata": {
    "id": "mqml3tpAkODi"
   },
   "outputs": [],
   "source": [
    "# things we really gotta do:\n",
    "# - normalize the images to [0, 1] (first convert to float)\n",
    "# - reshape images from (28, 28) to (784,) (although we could do this later!)\n",
    "# - convert labels to int32 (otherwise tensorflow is gonna be sad :( )\n",
    "\n",
    "train_images = (train_images.astype(np.float32) / 255.).reshape((-1, 784))\n",
    "test_images = (test_images.astype(np.float32) / 255.).reshape((-1, 784))\n",
    "\n",
    "train_labels = train_labels.astype(np.int32)\n",
    "test_labels = test_labels.astype(np.int32)\n",
    "\n",
    "train_data = tf.data.Dataset.from_tensor_slices((train_images, train_labels))\n",
    "train_data = train_data.batch(128)\n",
    "\n",
    "# just print the shapes to get an idea of what we have here (note the additional batch axis)\n",
    "# also note the size of the very last batch!\n",
    "for img_batch, lbl_batch in train_data:\n",
    "    print(img_batch.shape, lbl_batch.shape)\n",
    "    \n",
    "    \n",
    "# in principle this is it, and you can use these batches as input to your model!\n",
    "# BUT: you should shuffle your data and maybe repeat as well (see assignment)!"
   ]
  },
  {
   "cell_type": "code",
   "execution_count": null,
   "metadata": {
    "id": "CohJIkr9kODj"
   },
   "outputs": [],
   "source": []
  }
 ],
 "metadata": {
  "colab": {
   "collapsed_sections": [],
   "name": "tf_data.ipynb",
   "provenance": []
  },
  "kernelspec": {
   "display_name": "Python 3",
   "language": "python",
   "name": "python3"
  },
  "language_info": {
   "codemirror_mode": {
    "name": "ipython",
    "version": 3
   },
   "file_extension": ".py",
   "mimetype": "text/x-python",
   "name": "python",
   "nbconvert_exporter": "python",
   "pygments_lexer": "ipython3",
   "version": "3.6.8"
  }
 },
 "nbformat": 4,
 "nbformat_minor": 1
}
